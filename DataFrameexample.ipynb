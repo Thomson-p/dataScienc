{
  "nbformat": 4,
  "nbformat_minor": 0,
  "metadata": {
    "colab": {
      "provenance": [],
      "authorship_tag": "ABX9TyNS3H7SFVJjPPPmCb53VdJN",
      "include_colab_link": true
    },
    "kernelspec": {
      "name": "python3",
      "display_name": "Python 3"
    },
    "language_info": {
      "name": "python"
    }
  },
  "cells": [
    {
      "cell_type": "markdown",
      "metadata": {
        "id": "view-in-github",
        "colab_type": "text"
      },
      "source": [
        "<a href=\"https://colab.research.google.com/github/thomsonmukungu/0xvip3r/blob/main/DataFrameexample.ipynb\" target=\"_parent\"><img src=\"https://colab.research.google.com/assets/colab-badge.svg\" alt=\"Open In Colab\"/></a>"
      ]
    },
    {
      "cell_type": "code",
      "execution_count": 2,
      "metadata": {
        "colab": {
          "base_uri": "https://localhost:8080/"
        },
        "id": "5Bw4oaeJ9Pq5",
        "outputId": "f2d082d9-c8f8-4a31-bc85-3586758d9535"
      },
      "outputs": [
        {
          "output_type": "stream",
          "name": "stdout",
          "text": [
            "   col 1  col2  col3\n",
            "0      1     4     7\n",
            "1      2     5     8\n",
            "2      3     6    12\n",
            "3      4     7     1\n",
            "4      7     9    11\n",
            "3\n",
            "5\n"
          ]
        }
      ],
      "source": [
        "import pandas as pd\n",
        "d = { 'col 1' : [1,2,3,4,7], 'col2' : [4,5,6,7,9], 'col3' : [7,8,12,1,11]}\n",
        "df = pd.DataFrame(data=d)\n",
        "print(df)\n",
        "\n",
        "column = df.shape[1]\n",
        "row = df.shape[0]\n",
        "print(column)\n",
        "print(row)"
      ]
    }
  ]
}