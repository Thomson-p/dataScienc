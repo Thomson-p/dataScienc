{
  "nbformat": 4,
  "nbformat_minor": 0,
  "metadata": {
    "colab": {
      "provenance": [],
      "authorship_tag": "ABX9TyPLBXWr3iqZTaPpPSR8mTE0",
      "include_colab_link": true
    },
    "kernelspec": {
      "name": "python3",
      "display_name": "Python 3"
    },
    "language_info": {
      "name": "python"
    }
  },
  "cells": [
    {
      "cell_type": "markdown",
      "metadata": {
        "id": "view-in-github",
        "colab_type": "text"
      },
      "source": [
        "<a href=\"https://colab.research.google.com/github/thomsonmukungu/0xvip3r/blob/main/nba_data.ipynb\" target=\"_parent\"><img src=\"https://colab.research.google.com/assets/colab-badge.svg\" alt=\"Open In Colab\"/></a>"
      ]
    },
    {
      "cell_type": "code",
      "source": [
        "import pandas as pd\n",
        "nba_data = pd.read_csv('/content/all_seasons.csv', header=0, sep=',')\n",
        "nba_data.dropna(axis = 0, inplace = True)\n",
        "print(nba_data)"
      ],
      "metadata": {
        "colab": {
          "base_uri": "https://localhost:8080/"
        },
        "id": "dKav4nF-JIGU",
        "outputId": "79fd13b7-2922-49c1-adec-d63f1bfb7efe"
      },
      "execution_count": 1,
      "outputs": [
        {
          "output_type": "stream",
          "name": "stdout",
          "text": [
            "       Unnamed: 0       player_name team_abbreviation   age  player_height  \\\n",
            "0               0  Randy Livingston               HOU  22.0         193.04   \n",
            "1               1  Gaylon Nickerson               WAS  28.0         190.50   \n",
            "2               2      George Lynch               VAN  26.0         203.20   \n",
            "3               3    George McCloud               LAL  30.0         203.20   \n",
            "4               4      George Zidek               DEN  23.0         213.36   \n",
            "...           ...               ...               ...   ...            ...   \n",
            "12839       12839       Joel Embiid               PHI  29.0         213.36   \n",
            "12840       12840   John Butler Jr.               POR  20.0         213.36   \n",
            "12841       12841      John Collins               ATL  25.0         205.74   \n",
            "12842       12842      Jericho Sims               NYK  24.0         208.28   \n",
            "12843       12843    JaMychal Green               GSW  33.0         205.74   \n",
            "\n",
            "       player_weight                college   country draft_year draft_round  \\\n",
            "0          94.800728        Louisiana State       USA       1996           2   \n",
            "1          86.182480  Northwestern Oklahoma       USA       1994           2   \n",
            "2         103.418976         North Carolina       USA       1993           1   \n",
            "3         102.058200          Florida State       USA       1989           1   \n",
            "4         119.748288                   UCLA       USA       1995           1   \n",
            "...              ...                    ...       ...        ...         ...   \n",
            "12839     127.005760                 Kansas  Cameroon       2014           1   \n",
            "12840      86.182480          Florida State       USA  Undrafted   Undrafted   \n",
            "12841     102.511792            Wake Forest       USA       2017           1   \n",
            "12842     113.398000                  Texas       USA       2021           2   \n",
            "12843     102.965384                Alabama       USA  Undrafted   Undrafted   \n",
            "\n",
            "       ...   pts   reb  ast  net_rating  oreb_pct  dreb_pct  usg_pct  ts_pct  \\\n",
            "0      ...   3.9   1.5  2.4         0.3     0.042     0.071    0.169   0.487   \n",
            "1      ...   3.8   1.3  0.3         8.9     0.030     0.111    0.174   0.497   \n",
            "2      ...   8.3   6.4  1.9        -8.2     0.106     0.185    0.175   0.512   \n",
            "3      ...  10.2   2.8  1.7        -2.7     0.027     0.111    0.206   0.527   \n",
            "4      ...   2.8   1.7  0.3       -14.1     0.102     0.169    0.195   0.500   \n",
            "...    ...   ...   ...  ...         ...       ...       ...      ...     ...   \n",
            "12839  ...  33.1  10.2  4.2         8.8     0.057     0.243    0.370   0.655   \n",
            "12840  ...   2.4   0.9  0.6       -16.1     0.012     0.065    0.102   0.411   \n",
            "12841  ...  13.1   6.5  1.2        -0.2     0.035     0.180    0.168   0.593   \n",
            "12842  ...   3.4   4.7  0.5        -6.7     0.117     0.175    0.074   0.780   \n",
            "12843  ...   6.4   3.6  0.9        -8.2     0.087     0.164    0.169   0.650   \n",
            "\n",
            "       ast_pct   season  \n",
            "0        0.248  1996-97  \n",
            "1        0.043  1996-97  \n",
            "2        0.125  1996-97  \n",
            "3        0.125  1996-97  \n",
            "4        0.064  1996-97  \n",
            "...        ...      ...  \n",
            "12839    0.233  2022-23  \n",
            "12840    0.066  2022-23  \n",
            "12841    0.052  2022-23  \n",
            "12842    0.044  2022-23  \n",
            "12843    0.094  2022-23  \n",
            "\n",
            "[12844 rows x 22 columns]\n"
          ]
        }
      ]
    }
  ]
}